{
 "cells": [
  {
   "cell_type": "code",
   "execution_count": 1,
   "id": "aafb7d9b",
   "metadata": {},
   "outputs": [],
   "source": [
    "import sys\n",
    "sys.path.append(r\"C:\\Users\\ASUS\\Documents\\GitHub\\Web3CausalInference\\src\")\n",
    "\n",
    "# example_att_est.py\n",
    "import numpy as np\n",
    "\n",
    "from UnifiedCausal import UnifiedCausalTester, CausalRules\n",
    "from minVarCatBoostTuner import MinVarCatBoostTuner\n",
    "from nAUUCCatBoostTuner import NAUUCCatBoostTuner\n",
    "from NAUUCCatBoostTunerV2 import NAUUCCatBoostTunerV2\n",
    "from causaldata import nhefs_complete\n",
    "\n",
    "\n",
    "import pandas as pd\n",
    "import os.path\n",
    "import os\n"
   ]
  },
  {
   "cell_type": "code",
   "execution_count": 2,
   "id": "7948d84e",
   "metadata": {},
   "outputs": [],
   "source": [
    "try:\n",
    "    df = nhefs_complete.load_pandas().data.copy()\n",
    "except Exception:\n",
    "    df = nhefs_complete.load_pandas().copy()\n",
    "\n",
    "t_col = \"qsmk\"\n",
    "y_col = \"wt82_71\"\n",
    "y_nc_col = None\n",
    "\n",
    "# 协变量（可按需增减；以下为常见一组）\n",
    "base_covs = [\n",
    "    \"sex\", \"race\", \"age\", \"education\",\n",
    "    \"smokeintensity\", \"smokeyrs\",\n",
    "    \"exercise\", \"active\",\n",
    "    \"wt71\", \"ht\", \"bmix\",  # bmix 若不存在，可用 bmi\n",
    "    \"alcohol\", \"marital\"\n",
    "]\n",
    "# 兼容：若某些列不存在，自动剔除\n",
    "covs = [c for c in base_covs if c in df.columns]\n",
    "if \"bmi\" in df.columns and \"bmix\" not in df.columns:\n",
    "    covs.append(\"bmi\")"
   ]
  },
  {
   "cell_type": "code",
   "execution_count": 3,
   "id": "b7e24097",
   "metadata": {},
   "outputs": [],
   "source": [
    "# --- 构造 X / T / Y ---\n",
    "X_df = pd.get_dummies(df[covs], drop_first=True)   # one-hot → 全数值\n",
    "X = X_df.to_numpy()\n",
    "feature_names = list(X_df.columns)\n",
    "\n",
    "T = df[t_col].to_numpy().ravel().astype(int)\n",
    "Y = df[y_col].to_numpy().ravel().astype(float)\n",
    "y_nc = None"
   ]
  },
  {
   "cell_type": "code",
   "execution_count": 4,
   "id": "bbe1e461",
   "metadata": {},
   "outputs": [
    {
     "data": {
      "text/plain": [
       "(1566, 67)"
      ]
     },
     "execution_count": 4,
     "metadata": {},
     "output_type": "execute_result"
    }
   ],
   "source": [
    "df.shape"
   ]
  },
  {
   "cell_type": "code",
   "execution_count": 5,
   "id": "5fa4447e",
   "metadata": {},
   "outputs": [
    {
     "name": "stderr",
     "output_type": "stream",
     "text": [
      "[I 2025-09-18 21:48:19,620] A new study created in memory with name: no-name-46599549-b82a-40a6-9756-c2d959100ceb\n",
      "[I 2025-09-18 21:48:21,999] Trial 0 finished with value: 0.703232279306612 and parameters: {'iterations': 305, 'od_wait': 161, 'reg_depth': 5, 'clf_depth': 4, 'reg_loss': 'RMSE', 'reg_lr': 0.07779618980323089, 'reg_l2': 0.005301039627227607, 'reg_subsample': 0.829959672010499, 'clf_lr': 0.001936945130623209, 'clf_l2': 0.06847505363786201, 'clf_subsample': 0.7627793224147521, 'clf_class_wt': None}. Best is trial 0 with value: 0.703232279306612.\n",
      "[I 2025-09-18 21:48:33,342] Trial 1 finished with value: 471.3419491676873 and parameters: {'iterations': 387, 'od_wait': 137, 'reg_depth': 9, 'clf_depth': 6, 'reg_loss': 'RMSE', 'reg_lr': 0.0032951579039732074, 'reg_l2': 0.2723893685109325, 'reg_subsample': 0.8649138839074996, 'clf_lr': 0.07809172459103658, 'clf_l2': 0.03078800562781488, 'clf_subsample': 0.7751133666190527, 'clf_class_wt': 'SqrtBalanced'}. Best is trial 0 with value: 0.703232279306612.\n",
      "[I 2025-09-18 21:48:37,781] Trial 2 finished with value: 0.7046775922703139 and parameters: {'iterations': 954, 'od_wait': 77, 'reg_depth': 7, 'clf_depth': 8, 'reg_loss': 'RMSE', 'reg_lr': 0.008343878859402992, 'reg_l2': 0.6401495972272001, 'reg_subsample': 0.7950030461481691, 'clf_lr': 0.006043748826341904, 'clf_l2': 0.005711217237531222, 'clf_subsample': 0.9932543599185417, 'clf_class_wt': None}. Best is trial 0 with value: 0.703232279306612.\n",
      "[I 2025-09-18 21:48:43,187] Trial 3 finished with value: 0.7408981295841841 and parameters: {'iterations': 488, 'od_wait': 81, 'reg_depth': 7, 'clf_depth': 6, 'reg_loss': 'RMSE', 'reg_lr': 0.0017583935942318567, 'reg_l2': 4.830119149281298, 'reg_subsample': 0.9144006626964192, 'clf_lr': 0.010321156334742064, 'clf_l2': 2.519475030561086, 'clf_subsample': 0.8290511782489262, 'clf_class_wt': None}. Best is trial 0 with value: 0.703232279306612.\n",
      "[I 2025-09-18 21:48:56,357] Trial 4 finished with value: 0.7447963784469984 and parameters: {'iterations': 996, 'od_wait': 150, 'reg_depth': 10, 'clf_depth': 5, 'reg_loss': 'RMSE', 'reg_lr': 0.05898987862674297, 'reg_l2': 0.12060004405742422, 'reg_subsample': 0.9419654107833904, 'clf_lr': 0.0023145323918979627, 'clf_l2': 0.6899984933107832, 'clf_subsample': 0.7881468899479984, 'clf_class_wt': 'SqrtBalanced'}. Best is trial 0 with value: 0.703232279306612.\n",
      "[I 2025-09-18 21:48:59,448] Trial 5 finished with value: 0.7030889071480833 and parameters: {'iterations': 951, 'od_wait': 89, 'reg_depth': 7, 'clf_depth': 3, 'reg_loss': 'RMSE', 'reg_lr': 0.014805728785993602, 'reg_l2': 0.008405732126958077, 'reg_subsample': 0.932243496217883, 'clf_lr': 0.0017550979615452236, 'clf_l2': 0.0011826616526600905, 'clf_subsample': 0.7568505819571301, 'clf_class_wt': None}. Best is trial 5 with value: 0.7030889071480833.\n",
      "[I 2025-09-18 21:49:07,197] Trial 6 finished with value: 0.720982324717578 and parameters: {'iterations': 1156, 'od_wait': 115, 'reg_depth': 6, 'clf_depth': 7, 'reg_loss': 'RMSE', 'reg_lr': 0.0024941270598267617, 'reg_l2': 2.6893248613914653, 'reg_subsample': 0.8245636164438437, 'clf_lr': 0.008704391799711227, 'clf_l2': 0.3003530872837589, 'clf_subsample': 0.8253880186591477, 'clf_class_wt': 'Balanced'}. Best is trial 5 with value: 0.7030889071480833.\n",
      "[I 2025-09-18 21:49:09,345] Trial 7 finished with value: 0.7394368743925483 and parameters: {'iterations': 348, 'od_wait': 50, 'reg_depth': 5, 'clf_depth': 4, 'reg_loss': 'RMSE', 'reg_lr': 0.002425101716702785, 'reg_l2': 1.2787282343157644, 'reg_subsample': 0.9702668351741448, 'clf_lr': 0.12602796602144245, 'clf_l2': 0.019116625053378224, 'clf_subsample': 0.745390943019609, 'clf_class_wt': 'Balanced'}. Best is trial 5 with value: 0.7030889071480833.\n",
      "[I 2025-09-18 21:49:14,431] Trial 8 finished with value: 0.8190156745521069 and parameters: {'iterations': 354, 'od_wait': 137, 'reg_depth': 9, 'clf_depth': 5, 'reg_loss': 'RMSE', 'reg_lr': 0.16624250701233706, 'reg_l2': 0.0027563758279727344, 'reg_subsample': 0.9389185472730851, 'clf_lr': 0.02196085503836391, 'clf_l2': 4.497836202218515, 'clf_subsample': 0.8397839965397086, 'clf_class_wt': 'SqrtBalanced'}. Best is trial 5 with value: 0.7030889071480833.\n",
      "[I 2025-09-18 21:49:20,125] Trial 9 finished with value: 0.710313513190256 and parameters: {'iterations': 331, 'od_wait': 152, 'reg_depth': 8, 'clf_depth': 3, 'reg_loss': 'RMSE', 'reg_lr': 0.007231161834859257, 'reg_l2': 0.004382152557762208, 'reg_subsample': 0.7902952481868997, 'clf_lr': 0.002636524593082402, 'clf_l2': 0.050497507182325235, 'clf_subsample': 0.8161363878931507, 'clf_class_wt': 'SqrtBalanced'}. Best is trial 5 with value: 0.7030889071480833.\n",
      "[I 2025-09-18 21:49:22,654] Trial 10 finished with value: 1.0757373040076441 and parameters: {'iterations': 1981, 'od_wait': 186, 'reg_depth': 4, 'clf_depth': 3, 'reg_loss': 'RMSE', 'reg_lr': 0.024299629009463777, 'reg_l2': 0.020422712923418913, 'reg_subsample': 0.7223868060454033, 'clf_lr': 0.035048296698434366, 'clf_l2': 0.001042277803654052, 'clf_subsample': 0.7079968130291909, 'clf_class_wt': None}. Best is trial 5 with value: 0.7030889071480833.\n",
      "[I 2025-09-18 21:49:25,450] Trial 11 finished with value: 0.7040792111026664 and parameters: {'iterations': 597, 'od_wait': 194, 'reg_depth': 5, 'clf_depth': 4, 'reg_loss': 'RMSE', 'reg_lr': 0.04148116508862883, 'reg_l2': 0.020183164707814432, 'reg_subsample': 0.876413308457426, 'clf_lr': 0.001049752089584412, 'clf_l2': 0.0010354202963612645, 'clf_subsample': 0.9160073743803355, 'clf_class_wt': None}. Best is trial 5 with value: 0.7030889071480833.\n",
      "[I 2025-09-18 21:49:27,718] Trial 12 finished with value: 0.7137141258943341 and parameters: {'iterations': 677, 'od_wait': 104, 'reg_depth': 6, 'clf_depth': 4, 'reg_loss': 'RMSE', 'reg_lr': 0.15645972507954867, 'reg_l2': 0.0010424650127109768, 'reg_subsample': 0.9854170786909684, 'clf_lr': 0.0011165839187579948, 'clf_l2': 0.0038173682963910903, 'clf_subsample': 0.7013150785512502, 'clf_class_wt': None}. Best is trial 5 with value: 0.7030889071480833.\n",
      "[I 2025-09-18 21:49:29,821] Trial 13 finished with value: 0.7405225004804346 and parameters: {'iterations': 1459, 'od_wait': 169, 'reg_depth': 4, 'clf_depth': 3, 'reg_loss': 'RMSE', 'reg_lr': 0.06316435071491273, 'reg_l2': 0.029109103846796647, 'reg_subsample': 0.7326379289366113, 'clf_lr': 0.003548003424148461, 'clf_l2': 0.17753467482556987, 'clf_subsample': 0.8809807146527777, 'clf_class_wt': None}. Best is trial 5 with value: 0.7030889071480833.\n",
      "[I 2025-09-18 21:49:32,379] Trial 14 finished with value: 0.8264840291848994 and parameters: {'iterations': 809, 'od_wait': 96, 'reg_depth': 5, 'clf_depth': 4, 'reg_loss': 'RMSE', 'reg_lr': 0.017302306337781896, 'reg_l2': 0.006064600892656582, 'reg_subsample': 0.8957365930857689, 'clf_lr': 0.004177500293073232, 'clf_l2': 0.006952301795727702, 'clf_subsample': 0.7471555152066559, 'clf_class_wt': None}. Best is trial 5 with value: 0.7030889071480833.\n",
      "[I 2025-09-18 21:49:35,095] Trial 15 finished with value: 0.7011174324561684 and parameters: {'iterations': 510, 'od_wait': 61, 'reg_depth': 6, 'clf_depth': 3, 'reg_loss': 'RMSE', 'reg_lr': 0.007518017219249626, 'reg_l2': 0.0400900962737558, 'reg_subsample': 0.834883235247977, 'clf_lr': 0.002004475573435514, 'clf_l2': 1.0266924708878797, 'clf_subsample': 0.7493673348781157, 'clf_class_wt': None}. Best is trial 15 with value: 0.7011174324561684.\n",
      "[I 2025-09-18 21:49:40,207] Trial 16 finished with value: 0.7303503514039401 and parameters: {'iterations': 526, 'od_wait': 52, 'reg_depth': 8, 'clf_depth': 3, 'reg_loss': 'RMSE', 'reg_lr': 0.0066036910107541555, 'reg_l2': 0.06322090520406334, 'reg_subsample': 0.7709663299586671, 'clf_lr': 0.02122161291076742, 'clf_l2': 0.9859795251517163, 'clf_subsample': 0.907666315389659, 'clf_class_wt': 'Balanced'}. Best is trial 15 with value: 0.7011174324561684.\n",
      "[I 2025-09-18 21:49:45,578] Trial 17 finished with value: 0.719871454689289 and parameters: {'iterations': 766, 'od_wait': 72, 'reg_depth': 6, 'clf_depth': 5, 'reg_loss': 'RMSE', 'reg_lr': 0.001042471499545695, 'reg_l2': 0.07880947040324959, 'reg_subsample': 0.8408016508798855, 'clf_lr': 0.0017214935754199462, 'clf_l2': 7.629286645899721, 'clf_subsample': 0.7259013107440526, 'clf_class_wt': None}. Best is trial 15 with value: 0.7011174324561684.\n",
      "[I 2025-09-18 21:49:49,936] Trial 18 finished with value: 0.8017385174756392 and parameters: {'iterations': 475, 'od_wait': 66, 'reg_depth': 8, 'clf_depth': 3, 'reg_loss': 'RMSE', 'reg_lr': 0.012028646052228973, 'reg_l2': 0.26170644098782925, 'reg_subsample': 0.999855536197483, 'clf_lr': 0.005342391228882009, 'clf_l2': 1.496444499065159, 'clf_subsample': 0.7903769885916453, 'clf_class_wt': None}. Best is trial 15 with value: 0.7011174324561684.\n",
      "[I 2025-09-18 21:49:53,161] Trial 19 finished with value: 0.722923196865338 and parameters: {'iterations': 1326, 'od_wait': 94, 'reg_depth': 7, 'clf_depth': 8, 'reg_loss': 'RMSE', 'reg_lr': 0.028659482113032136, 'reg_l2': 0.012834763597451348, 'reg_subsample': 0.9122884196216335, 'clf_lr': 0.0010317721893536539, 'clf_l2': 0.2627268018806989, 'clf_subsample': 0.7336246915425434, 'clf_class_wt': 'Balanced'}. Best is trial 15 with value: 0.7011174324561684.\n",
      "[I 2025-09-18 21:49:57,408] Trial 20 finished with value: 0.7673166566769876 and parameters: {'iterations': 434, 'od_wait': 115, 'reg_depth': 6, 'clf_depth': 7, 'reg_loss': 'RMSE', 'reg_lr': 0.004550296647628301, 'reg_l2': 0.001563223285635713, 'reg_subsample': 0.9531981624122668, 'clf_lr': 0.008742001543799992, 'clf_l2': 0.016460565858390952, 'clf_subsample': 0.8716045601868343, 'clf_class_wt': None}. Best is trial 15 with value: 0.7011174324561684.\n",
      "[I 2025-09-18 21:49:59,531] Trial 21 finished with value: 0.7104739596037326 and parameters: {'iterations': 621, 'od_wait': 168, 'reg_depth': 5, 'clf_depth': 4, 'reg_loss': 'RMSE', 'reg_lr': 0.1046444441970738, 'reg_l2': 0.007919090337565247, 'reg_subsample': 0.8225397855930991, 'clf_lr': 0.001759218721212664, 'clf_l2': 0.09034880561441073, 'clf_subsample': 0.76581780774432, 'clf_class_wt': None}. Best is trial 15 with value: 0.7011174324561684.\n",
      "[I 2025-09-18 21:50:02,207] Trial 22 finished with value: 0.7198678219246706 and parameters: {'iterations': 418, 'od_wait': 63, 'reg_depth': 7, 'clf_depth': 3, 'reg_loss': 'RMSE', 'reg_lr': 0.011962084003732906, 'reg_l2': 0.03990631422199846, 'reg_subsample': 0.8590630931049704, 'clf_lr': 0.0027698726729211112, 'clf_l2': 0.37828327921416127, 'clf_subsample': 0.798182207245589, 'clf_class_wt': None}. Best is trial 15 with value: 0.7011174324561684.\n",
      "[I 2025-09-18 21:50:04,150] Trial 23 finished with value: 0.6971578075503926 and parameters: {'iterations': 308, 'od_wait': 87, 'reg_depth': 4, 'clf_depth': 4, 'reg_loss': 'RMSE', 'reg_lr': 0.020623239831733562, 'reg_l2': 0.01217570215909539, 'reg_subsample': 0.8032148531803892, 'clf_lr': 0.0017653332219347226, 'clf_l2': 0.09709451207216506, 'clf_subsample': 0.7602849951290104, 'clf_class_wt': None}. Best is trial 23 with value: 0.6971578075503926.\n",
      "[I 2025-09-18 21:50:06,068] Trial 24 finished with value: 0.7043859066546688 and parameters: {'iterations': 814, 'od_wait': 86, 'reg_depth': 4, 'clf_depth': 3, 'reg_loss': 'RMSE', 'reg_lr': 0.019939603626984465, 'reg_l2': 0.01198952839519368, 'reg_subsample': 0.7518338970732844, 'clf_lr': 0.0015952519386386007, 'clf_l2': 2.4061058174176115, 'clf_subsample': 0.7246767592030214, 'clf_class_wt': None}. Best is trial 23 with value: 0.6971578075503926.\n",
      "[I 2025-09-18 21:50:08,387] Trial 25 finished with value: 0.7019537207818226 and parameters: {'iterations': 548, 'od_wait': 105, 'reg_depth': 6, 'clf_depth': 4, 'reg_loss': 'RMSE', 'reg_lr': 0.03565397551976414, 'reg_l2': 0.1607455134380833, 'reg_subsample': 0.7963432941743358, 'clf_lr': 0.004054706613989625, 'clf_l2': 0.0032464196310819232, 'clf_subsample': 0.8055609820751815, 'clf_class_wt': None}. Best is trial 23 with value: 0.6971578075503926.\n",
      "[I 2025-09-18 21:50:11,088] Trial 26 finished with value: 0.9302150100647365 and parameters: {'iterations': 566, 'od_wait': 115, 'reg_depth': 6, 'clf_depth': 5, 'reg_loss': 'RMSE', 'reg_lr': 0.03812467926962265, 'reg_l2': 0.1876843067404697, 'reg_subsample': 0.7011195850618733, 'clf_lr': 0.005091194696585302, 'clf_l2': 0.002540586485985469, 'clf_subsample': 0.8095821380458251, 'clf_class_wt': None}. Best is trial 23 with value: 0.6971578075503926.\n",
      "[I 2025-09-18 21:50:12,724] Trial 27 finished with value: 0.7109253213902009 and parameters: {'iterations': 685, 'od_wait': 102, 'reg_depth': 4, 'clf_depth': 4, 'reg_loss': 'RMSE', 'reg_lr': 0.03341677194613467, 'reg_l2': 0.5470152861916938, 'reg_subsample': 0.7790669796458419, 'clf_lr': 0.0032729040561643823, 'clf_l2': 0.5932740951991607, 'clf_subsample': 0.8560129118283755, 'clf_class_wt': 'Balanced'}. Best is trial 23 with value: 0.6971578075503926.\n",
      "[I 2025-09-18 21:50:15,295] Trial 28 finished with value: 0.6957434974919693 and parameters: {'iterations': 407, 'od_wait': 61, 'reg_depth': 5, 'clf_depth': 5, 'reg_loss': 'RMSE', 'reg_lr': 0.004768678476474011, 'reg_l2': 0.05750897172486265, 'reg_subsample': 0.8090969031041769, 'clf_lr': 0.006095390948016695, 'clf_l2': 0.14424429828887536, 'clf_subsample': 0.7836864219592555, 'clf_class_wt': 'SqrtBalanced'}. Best is trial 28 with value: 0.6957434974919693.\n",
      "[I 2025-09-18 21:50:17,639] Trial 29 finished with value: 0.7527765625340924 and parameters: {'iterations': 306, 'od_wait': 60, 'reg_depth': 5, 'clf_depth': 6, 'reg_loss': 'RMSE', 'reg_lr': 0.004950028659853641, 'reg_l2': 0.04124444485587295, 'reg_subsample': 0.8126080118176915, 'clf_lr': 0.015288135324046905, 'clf_l2': 0.14652765541164706, 'clf_subsample': 0.7787177095983652, 'clf_class_wt': 'SqrtBalanced'}. Best is trial 28 with value: 0.6957434974919693.\n",
      "[I 2025-09-18 21:50:19,621] Trial 30 finished with value: 0.7085610558810591 and parameters: {'iterations': 393, 'od_wait': 73, 'reg_depth': 4, 'clf_depth': 5, 'reg_loss': 'RMSE', 'reg_lr': 0.009271277485647322, 'reg_l2': 0.06511717837623476, 'reg_subsample': 0.7623333039785234, 'clf_lr': 0.012406763957702505, 'clf_l2': 0.051021969165833056, 'clf_subsample': 0.7552166217536979, 'clf_class_wt': 'SqrtBalanced'}. Best is trial 28 with value: 0.6957434974919693.\n",
      "[I 2025-09-18 21:50:21,890] Trial 31 finished with value: 0.6916539470087006 and parameters: {'iterations': 302, 'od_wait': 57, 'reg_depth': 5, 'clf_depth': 4, 'reg_loss': 'RMSE', 'reg_lr': 0.0052714548611250715, 'reg_l2': 0.11750761354270461, 'reg_subsample': 0.8116620955792118, 'clf_lr': 0.00680718156075324, 'clf_l2': 0.014659475813020897, 'clf_subsample': 0.8014841490399112, 'clf_class_wt': 'SqrtBalanced'}. Best is trial 31 with value: 0.6916539470087006.\n",
      "[I 2025-09-18 21:50:24,358] Trial 32 finished with value: 0.7499453447248394 and parameters: {'iterations': 372, 'od_wait': 60, 'reg_depth': 5, 'clf_depth': 5, 'reg_loss': 'RMSE', 'reg_lr': 0.004709838412475311, 'reg_l2': 0.3569702366730964, 'reg_subsample': 0.850534441480916, 'clf_lr': 0.04018977908786712, 'clf_l2': 0.024000089720339197, 'clf_subsample': 0.7649895083037468, 'clf_class_wt': 'SqrtBalanced'}. Best is trial 31 with value: 0.6916539470087006.\n",
      "[I 2025-09-18 21:50:26,458] Trial 33 finished with value: 0.7286520562488621 and parameters: {'iterations': 306, 'od_wait': 70, 'reg_depth': 4, 'clf_depth': 4, 'reg_loss': 'RMSE', 'reg_lr': 0.002859969275691366, 'reg_l2': 0.11295285950368202, 'reg_subsample': 0.8068556217074302, 'clf_lr': 0.006361214200723189, 'clf_l2': 0.010027497117685753, 'clf_subsample': 0.7771779531536036, 'clf_class_wt': 'SqrtBalanced'}. Best is trial 31 with value: 0.6916539470087006.\n",
      "[I 2025-09-18 21:50:29,920] Trial 34 finished with value: 0.730578356156739 and parameters: {'iterations': 456, 'od_wait': 80, 'reg_depth': 5, 'clf_depth': 4, 'reg_loss': 'RMSE', 'reg_lr': 0.001614078813690992, 'reg_l2': 0.021905472132977104, 'reg_subsample': 0.8368934038593863, 'clf_lr': 0.008420717309902615, 'clf_l2': 0.06842358116376387, 'clf_subsample': 0.962757431737226, 'clf_class_wt': 'SqrtBalanced'}. Best is trial 31 with value: 0.6916539470087006.\n",
      "[I 2025-09-18 21:50:32,875] Trial 35 finished with value: 0.7139623843656528 and parameters: {'iterations': 397, 'od_wait': 56, 'reg_depth': 5, 'clf_depth': 6, 'reg_loss': 'RMSE', 'reg_lr': 0.0038623915452667443, 'reg_l2': 0.045211152967079095, 'reg_subsample': 0.8818753727831324, 'clf_lr': 0.00646449184472435, 'clf_l2': 0.03585632856780683, 'clf_subsample': 0.7354255860155445, 'clf_class_wt': 'SqrtBalanced'}. Best is trial 31 with value: 0.6916539470087006.\n",
      "[I 2025-09-18 21:50:35,532] Trial 36 finished with value: 0.7000093877633564 and parameters: {'iterations': 305, 'od_wait': 80, 'reg_depth': 4, 'clf_depth': 5, 'reg_loss': 'RMSE', 'reg_lr': 0.009343779001603224, 'reg_l2': 0.013290769514729853, 'reg_subsample': 0.7902068073846483, 'clf_lr': 0.0023691648547122662, 'clf_l2': 0.15974580981685513, 'clf_subsample': 0.7744894622823475, 'clf_class_wt': 'SqrtBalanced'}. Best is trial 31 with value: 0.6916539470087006.\n",
      "[I 2025-09-18 21:50:37,852] Trial 37 finished with value: 0.7101297728484282 and parameters: {'iterations': 306, 'od_wait': 82, 'reg_depth': 4, 'clf_depth': 5, 'reg_loss': 'RMSE', 'reg_lr': 0.005880857016945881, 'reg_l2': 0.0028766682496711715, 'reg_subsample': 0.7484977923593183, 'clf_lr': 0.0013796929885567866, 'clf_l2': 0.11699345121264705, 'clf_subsample': 0.8379885985820108, 'clf_class_wt': 'SqrtBalanced'}. Best is trial 31 with value: 0.6916539470087006.\n",
      "[I 2025-09-18 21:50:40,387] Trial 38 finished with value: 0.7005180381545222 and parameters: {'iterations': 338, 'od_wait': 78, 'reg_depth': 4, 'clf_depth': 6, 'reg_loss': 'RMSE', 'reg_lr': 0.010606758899974048, 'reg_l2': 0.01152948451296055, 'reg_subsample': 0.7896775091359424, 'clf_lr': 0.0023465231970637122, 'clf_l2': 0.4026017191279023, 'clf_subsample': 0.7862409115579709, 'clf_class_wt': 'SqrtBalanced'}. Best is trial 31 with value: 0.6916539470087006.\n",
      "[I 2025-09-18 21:50:42,638] Trial 39 finished with value: 0.7213652559224843 and parameters: {'iterations': 373, 'od_wait': 89, 'reg_depth': 4, 'clf_depth': 5, 'reg_loss': 'RMSE', 'reg_lr': 0.014274145771772405, 'reg_l2': 0.8443578092014423, 'reg_subsample': 0.8097380324038055, 'clf_lr': 0.013840954336954075, 'clf_l2': 0.012640076745470432, 'clf_subsample': 0.8138796374008833, 'clf_class_wt': 'SqrtBalanced'}. Best is trial 31 with value: 0.6916539470087006.\n",
      "[I 2025-09-18 21:51:06,044] Trial 40 finished with value: 0.9708929468570329 and parameters: {'iterations': 332, 'od_wait': 126, 'reg_depth': 10, 'clf_depth': 6, 'reg_loss': 'RMSE', 'reg_lr': 0.002044759033356504, 'reg_l2': 9.6402788910954, 'reg_subsample': 0.7815765995248559, 'clf_lr': 0.19779087269977608, 'clf_l2': 0.18971750316677782, 'clf_subsample': 0.7677927737100723, 'clf_class_wt': 'SqrtBalanced'}. Best is trial 31 with value: 0.6916539470087006.\n",
      "[I 2025-09-18 21:51:08,341] Trial 41 finished with value: 0.6990415125006557 and parameters: {'iterations': 354, 'od_wait': 77, 'reg_depth': 4, 'clf_depth': 6, 'reg_loss': 'RMSE', 'reg_lr': 0.009902126114534003, 'reg_l2': 0.015392205192789856, 'reg_subsample': 0.7953499630869628, 'clf_lr': 0.0026439767202725336, 'clf_l2': 0.45258736369400143, 'clf_subsample': 0.7844895141877183, 'clf_class_wt': 'SqrtBalanced'}. Best is trial 31 with value: 0.6916539470087006.\n",
      "[I 2025-09-18 21:51:10,832] Trial 42 finished with value: 0.6963321556841254 and parameters: {'iterations': 301, 'od_wait': 50, 'reg_depth': 5, 'clf_depth': 7, 'reg_loss': 'RMSE', 'reg_lr': 0.008357613051978918, 'reg_l2': 0.004423056057786754, 'reg_subsample': 0.8213719342513797, 'clf_lr': 0.003230918369508838, 'clf_l2': 0.1025874422211831, 'clf_subsample': 0.7975008864271783, 'clf_class_wt': 'SqrtBalanced'}. Best is trial 31 with value: 0.6916539470087006.\n",
      "[I 2025-09-18 21:51:13,623] Trial 43 finished with value: 0.6990785281782282 and parameters: {'iterations': 350, 'od_wait': 50, 'reg_depth': 5, 'clf_depth': 7, 'reg_loss': 'RMSE', 'reg_lr': 0.0037765437520310137, 'reg_l2': 0.0038315201021133956, 'reg_subsample': 0.8215486278498484, 'clf_lr': 0.003204503944588537, 'clf_l2': 0.035193598523804555, 'clf_subsample': 0.8256655206568815, 'clf_class_wt': 'SqrtBalanced'}. Best is trial 31 with value: 0.6916539470087006.\n",
      "[I 2025-09-18 21:51:16,256] Trial 44 finished with value: 0.7040703296635213 and parameters: {'iterations': 413, 'od_wait': 68, 'reg_depth': 5, 'clf_depth': 7, 'reg_loss': 'RMSE', 'reg_lr': 0.021037731815570653, 'reg_l2': 0.0021829695783506077, 'reg_subsample': 0.804063221893348, 'clf_lr': 0.004325875515049242, 'clf_l2': 0.08435424641377805, 'clf_subsample': 0.7967982063297988, 'clf_class_wt': 'SqrtBalanced'}. Best is trial 31 with value: 0.6916539470087006.\n",
      "[I 2025-09-18 21:51:19,084] Trial 45 finished with value: 0.6930276830593788 and parameters: {'iterations': 328, 'od_wait': 58, 'reg_depth': 5, 'clf_depth': 8, 'reg_loss': 'RMSE', 'reg_lr': 0.005851316810650219, 'reg_l2': 0.005686241739998431, 'reg_subsample': 0.8513553534279458, 'clf_lr': 0.007421400818169367, 'clf_l2': 0.6362988983445229, 'clf_subsample': 0.8358398801678143, 'clf_class_wt': 'SqrtBalanced'}. Best is trial 31 with value: 0.6916539470087006.\n",
      "[I 2025-09-18 21:51:21,661] Trial 46 finished with value: 0.7019354693406155 and parameters: {'iterations': 324, 'od_wait': 56, 'reg_depth': 5, 'clf_depth': 8, 'reg_loss': 'RMSE', 'reg_lr': 0.005828670566870049, 'reg_l2': 0.005583124430865902, 'reg_subsample': 0.868559049902769, 'clf_lr': 0.007463081333236013, 'clf_l2': 0.05493374434547764, 'clf_subsample': 0.856902851990064, 'clf_class_wt': 'SqrtBalanced'}. Best is trial 31 with value: 0.6916539470087006.\n",
      "[I 2025-09-18 21:51:25,173] Trial 47 finished with value: 0.7106642265878463 and parameters: {'iterations': 376, 'od_wait': 56, 'reg_depth': 6, 'clf_depth': 8, 'reg_loss': 'RMSE', 'reg_lr': 0.003280046919884928, 'reg_l2': 0.0016212628930920702, 'reg_subsample': 0.8470296416969765, 'clf_lr': 0.009570077885306994, 'clf_l2': 0.31398644253068164, 'clf_subsample': 0.8431006460018207, 'clf_class_wt': 'SqrtBalanced'}. Best is trial 31 with value: 0.6916539470087006.\n",
      "[I 2025-09-18 21:51:27,863] Trial 48 finished with value: 0.8941534832121765 and parameters: {'iterations': 445, 'od_wait': 50, 'reg_depth': 5, 'clf_depth': 7, 'reg_loss': 'RMSE', 'reg_lr': 0.008247457980099373, 'reg_l2': 0.005579264709557122, 'reg_subsample': 0.82716539232339, 'clf_lr': 0.018375814500126438, 'clf_l2': 0.23265134482587274, 'clf_subsample': 0.876823919452637, 'clf_class_wt': 'SqrtBalanced'}. Best is trial 31 with value: 0.6916539470087006.\n",
      "[I 2025-09-18 21:51:30,385] Trial 49 finished with value: 0.7161219439164993 and parameters: {'iterations': 337, 'od_wait': 67, 'reg_depth': 5, 'clf_depth': 8, 'reg_loss': 'RMSE', 'reg_lr': 0.015827050815240648, 'reg_l2': 0.008832299836195686, 'reg_subsample': 0.8590062981287013, 'clf_lr': 0.011320894960597452, 'clf_l2': 0.8829718683029343, 'clf_subsample': 0.8240579083719021, 'clf_class_wt': 'Balanced'}. Best is trial 31 with value: 0.6916539470087006.\n"
     ]
    }
   ],
   "source": [
    "# ===== 2) 公共规则 & 估计器配置（按需调快/调严）=====\n",
    "rules = CausalRules(\n",
    "    smd_max=0.3, ovl_min=0.50, ks_max=0.60, ess_min=0.70,\n",
    "    placebo_alpha=0.09, nc_alpha=0.10, top_k_smd=8\n",
    ")\n",
    "\n",
    "reg, clf = MinVarCatBoostTuner(verbose=0,n_trials=50).fit_return_models(X,T,Y)\n"
   ]
  },
  {
   "cell_type": "code",
   "execution_count": 6,
   "id": "a7cb6dd6",
   "metadata": {},
   "outputs": [
    {
     "name": "stdout",
     "output_type": "stream",
     "text": [
      "\n",
      "=== ATE on full sample ===\n"
     ]
    },
    {
     "data": {
      "application/vnd.jupyter.widget-view+json": {
       "model_id": "cae199623e1249e69da05da8bc75bb42",
       "version_major": 2,
       "version_minor": 0
      },
      "text/plain": [
       "  0%|          | 0/5 [00:00<?, ?it/s]"
      ]
     },
     "metadata": {},
     "output_type": "display_data"
    },
    {
     "data": {
      "application/vnd.jupyter.widget-view+json": {
       "model_id": "6dd729b7a88345818181d5d959a5201a",
       "version_major": 2,
       "version_minor": 0
      },
      "text/plain": [
       "  0%|          | 0/10 [00:00<?, ?it/s]"
      ]
     },
     "metadata": {},
     "output_type": "display_data"
    },
    {
     "name": "stdout",
     "output_type": "stream",
     "text": [
      "【ATE 可信度诊断报告（并行 + tqdm）】\n",
      "- 点估计 = 3.353088, 95%CI = [2.593328, 4.112849]\n",
      "- 重叠性: OVL=0.836 (阈值≥0.5) ✅; KS=0.170 (阈值≤0.6) ✅; 权重尾部: {'w1_p99': 4.478666418246574, 'w0_p99': 2.2026115722590585}\n",
      "- 平衡性: |SMD|_max=0.124 (阈值≤0.3) ✅；Top8 失衡特征：\n",
      "    · sex: 0.124\n",
      "    · active: -0.111\n",
      "    · exercise: -0.103\n",
      "    · race: -0.101\n",
      "    · smokeintensity: 0.076\n",
      "    · education: 0.066\n",
      "    · wt71: -0.061\n",
      "    · age: 0.032\n",
      "- 安慰剂置换: p=0.091 (应≥0.09) ✅\n",
      "- ForestDR 排序能力（overlap e∈[0.30,0.70]，OOF） 覆盖率=83.91%，n=1314\n",
      "    · nAUUC=0.008 (area_model=39.89, area_oracle=5147.62)\n",
      "    · Policy@10/20/30 = 1000.25 / 1198.54 / 1283.78\n",
      "- 各项通过: {'overlap_pass': True, 'balance_pass': True, 'placebo_pass': True, 'negctrl_pass': True}  => 结论：可信（通过）\n"
     ]
    }
   ],
   "source": [
    "common_kwargs = dict(\n",
    "    n_splits=5,\n",
    "    trim=0.01,\n",
    "    ps_clip=(0.05, 0.95),     # PS 裁剪，稳健\n",
    "    weight_clip=10.0,         # 权重裁剪，稳健\n",
    "    n_jobs=-1,                 # 单测/示例下设 1；真跑可以开大\n",
    "    n_jobs_placebo=-1,\n",
    "    random_state=2025,\n",
    "    verbose=0,\n",
    "    rules=rules,\n",
    "    regressor=reg,\n",
    "    classifier=clf\n",
    ")\n",
    "\n",
    "\n",
    "# ===== 3) ATE =====\n",
    "print(\"\\n=== ATE on full sample ===\")\n",
    "ate = UnifiedCausalTester(estimand=\"ATE\", **common_kwargs)\n",
    "ate.fit(X, T, Y, X_names=covs, y_nc=None, placebo_runs=10)\n",
    "print(ate.report())\n"
   ]
  },
  {
   "cell_type": "code",
   "execution_count": 7,
   "id": "a2840b13",
   "metadata": {},
   "outputs": [
    {
     "name": "stdout",
     "output_type": "stream",
     "text": [
      "\n",
      "=== ATT on overlap band e∈[0.3,0.7] (recommended when overlap is weak) ===\n",
      "Overlap-band coverage (treated kept): 362/403 = 89.8%\n"
     ]
    }
   ],
   "source": [
    "# 取得 OOF 倾向分数，后面做重叠带\n",
    "e_oof = ate.result_[\"diag\"][\"e\"]\n",
    "\n",
    "# ===== 6) “重叠带” ATT（可选，更稳的口径）=====\n",
    "print(\"\\n=== ATT on overlap band e∈[0.3,0.7] (recommended when overlap is weak) ===\")\n",
    "band = (e_oof >= 0.3) & (e_oof <= 0.7)\n",
    "print(f\"Overlap-band coverage (treated kept): \"\n",
    "    f\"{int((T[band]==1).sum())}/{int((T==1).sum())} \"\n",
    "    f\"= {(T[band]==1).sum()/(T==1).sum():.1%}\")\n"
   ]
  },
  {
   "cell_type": "code",
   "execution_count": 8,
   "id": "0bbc34df",
   "metadata": {},
   "outputs": [
    {
     "name": "stdout",
     "output_type": "stream",
     "text": [
      "\n",
      "=== ATT on overlap band e∈[0.3,0.7] (recommended when overlap is weak) ===\n",
      "Overlap-band coverage (treated kept): 362/403 = 89.8%\n"
     ]
    },
    {
     "data": {
      "application/vnd.jupyter.widget-view+json": {
       "model_id": "d480fe5d08b5400da1097b5c14ad73d3",
       "version_major": 2,
       "version_minor": 0
      },
      "text/plain": [
       "  0%|          | 0/5 [00:00<?, ?it/s]"
      ]
     },
     "metadata": {},
     "output_type": "display_data"
    },
    {
     "data": {
      "application/vnd.jupyter.widget-view+json": {
       "model_id": "8900783f1bae4078bc030ce7b945b75f",
       "version_major": 2,
       "version_minor": 0
      },
      "text/plain": [
       "  0%|          | 0/10 [00:00<?, ?it/s]"
      ]
     },
     "metadata": {},
     "output_type": "display_data"
    },
    {
     "name": "stdout",
     "output_type": "stream",
     "text": [
      "【ATT 可信度诊断报告（并行 + tqdm）】\n",
      "- 点估计 = 3.383176, 95%CI = [2.201528, 4.564823]\n",
      "- 重叠性: OVL=0.856 (阈值≥0.5) ✅; KS=0.164 (阈值≤0.6) ✅; 权重尾部: {'w_control_p99': 1.242994043189571, 'w_control_max': 1.5101231177308427}\n",
      "- 平衡性: |SMD|_max=0.116 (阈值≤0.3) ✅；Top8 失衡特征：\n",
      "    · age: 0.116\n",
      "    · race_1: -0.107\n",
      "    · education_5: 0.095\n",
      "    · exercise_2: 0.089\n",
      "    · wt71: 0.086\n",
      "    · active_2: 0.084\n",
      "    · smokeintensity: -0.069\n",
      "    · sex_1: -0.067\n",
      "- 安慰剂置换: p=0.091 (应≥0.09) ✅\n",
      "- ForestDR 排序能力（overlap e∈[0.30,0.70]，OOF） 覆盖率=89.65%，n=1178\n",
      "    · nAUUC=0.000 (area_model=-28.75, area_oracle=4633.60)\n",
      "    · Policy@10/20/30 = 909.18 / 1140.00 / 1403.37\n",
      "- 各项通过: {'overlap_pass': True, 'balance_pass': True, 'placebo_pass': True, 'negctrl_pass': True}  => 结论：可信（通过）\n"
     ]
    }
   ],
   "source": [
    "# ===== 6) “重叠带” ATT（可选，更稳的口径）=====\n",
    "print(\"\\n=== ATT on overlap band e∈[0.3,0.7] (recommended when overlap is weak) ===\")\n",
    "band = (e_oof >= 0.3) & (e_oof <= 0.7)\n",
    "print(f\"Overlap-band coverage (treated kept): \"\n",
    "    f\"{int((T[band]==1).sum())}/{int((T==1).sum())} \"\n",
    "    f\"= {(T[band]==1).sum()/(T==1).sum():.1%}\")\n",
    "\n",
    "att_band = UnifiedCausalTester(estimand=\"ATT\", **common_kwargs)\n",
    "att_band.fit(X[band], T[band], Y[band], X_names=feature_names, y_nc=y_nc, placebo_runs=10)\n",
    "print(att_band.report())\n"
   ]
  },
  {
   "cell_type": "code",
   "execution_count": null,
   "id": "312f2110",
   "metadata": {},
   "outputs": [],
   "source": []
  }
 ],
 "metadata": {
  "kernelspec": {
   "display_name": "base",
   "language": "python",
   "name": "python3"
  },
  "language_info": {
   "codemirror_mode": {
    "name": "ipython",
    "version": 3
   },
   "file_extension": ".py",
   "mimetype": "text/x-python",
   "name": "python",
   "nbconvert_exporter": "python",
   "pygments_lexer": "ipython3",
   "version": "3.12.7"
  }
 },
 "nbformat": 4,
 "nbformat_minor": 5
}
